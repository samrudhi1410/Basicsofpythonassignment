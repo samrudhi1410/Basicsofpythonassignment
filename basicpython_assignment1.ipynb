{
  "nbformat": 4,
  "nbformat_minor": 0,
  "metadata": {
    "colab": {
      "provenance": []
    },
    "kernelspec": {
      "name": "python3",
      "display_name": "Python 3"
    },
    "language_info": {
      "name": "python"
    }
  },
  "cells": [
    {
      "cell_type": "markdown",
      "source": [
        "PYTHON BASICS QUESTION"
      ],
      "metadata": {
        "id": "dlv8leOLHV5S"
      }
    },
    {
      "cell_type": "markdown",
      "source": [
        "1) What is python,and why is it popular?"
      ],
      "metadata": {
        "id": "tPjRyzm1H1nV"
      }
    },
    {
      "cell_type": "markdown",
      "source": [
        "\n",
        "\n",
        "ans : Phython is a programming language known for its simplicity , readability and a wide range of applications.\n",
        "It is popular because it is easy to learn and also have lot of libraries which are been used in data science , analytics , web development , etc."
      ],
      "metadata": {
        "id": "VDkFa0neBW2E"
      }
    },
    {
      "cell_type": "markdown",
      "source": [
        "2) What is an interpreter in Python ?\n"
      ],
      "metadata": {
        "id": "J2u47hG6HOpy"
      }
    },
    {
      "cell_type": "markdown",
      "source": [
        "ans: An interpreter is a program that reads and execute code line by line. Python uses interpreter to convert human-readable code into machine code during runtime."
      ],
      "metadata": {
        "id": "NX7NxKrTIbY4"
      }
    },
    {
      "cell_type": "markdown",
      "source": [
        "3) What are pre-defined keywords ?"
      ],
      "metadata": {
        "id": "pZNVuXdgJC9T"
      }
    },
    {
      "cell_type": "markdown",
      "source": [
        "ans: Pre-defined keywords are reserved words in python that have special meanings.\n",
        "They are not used as identifiers.\n",
        "examples of Pre-defined keywords are : if , else , while, for , etc."
      ],
      "metadata": {
        "id": "NCrzdT7DJqMp"
      }
    },
    {
      "cell_type": "markdown",
      "source": [
        "4) Can keywords be used as variable names?"
      ],
      "metadata": {
        "id": "6RR40INYK3dl"
      }
    },
    {
      "cell_type": "markdown",
      "source": [
        "ans: NO, beacuse they are reserved for specific programming constructs."
      ],
      "metadata": {
        "id": "EeTs189iLUud"
      }
    },
    {
      "cell_type": "markdown",
      "source": [
        "5) What is mutability in Python?"
      ],
      "metadata": {
        "id": "OCCwdjU3LlZs"
      }
    },
    {
      "cell_type": "markdown",
      "source": [
        "ans: Objects that can be changed after they are created , that is called as Mutability. Such as lists and dictionries"
      ],
      "metadata": {
        "id": "LSXLi5EsMBAL"
      }
    },
    {
      "cell_type": "markdown",
      "source": [
        "6) Why are lists Mutable , but tuples are immutable?"
      ],
      "metadata": {
        "id": "nQRmojrsMzzo"
      }
    },
    {
      "cell_type": "markdown",
      "source": [
        "ans: list are designed such that they allow modification , so lists are mutable . whereas, tuples does not allow modifications , they ae fixed so they are immutable."
      ],
      "metadata": {
        "id": "BgB4sOmbNNpZ"
      }
    },
    {
      "cell_type": "markdown",
      "source": [
        "7) What is diffrence between \"==\" and \"is\" operators in Python?"
      ],
      "metadata": {
        "id": "Ks70l31uN4LH"
      }
    },
    {
      "cell_type": "markdown",
      "source": [
        "ans: \"==\" compares value . \"is\" checks if two variables point to the same object in memory."
      ],
      "metadata": {
        "id": "4XGi_7_4Oi1G"
      }
    },
    {
      "cell_type": "markdown",
      "source": [
        "8) what are logical operators in python?"
      ],
      "metadata": {
        "id": "tA78H-iTO1D2"
      }
    },
    {
      "cell_type": "markdown",
      "source": [
        "ans: Logical operators include \"and\",\"or\" and \"not\". They are used to combine conditional statements."
      ],
      "metadata": {
        "id": "Nkyi6FOiqZkO"
      }
    },
    {
      "cell_type": "markdown",
      "source": [
        "9) what is type of casting in python?"
      ],
      "metadata": {
        "id": "9Xo5NU9Sq_m3"
      }
    },
    {
      "cell_type": "markdown",
      "source": [
        "ans: Type of casting is the process of changing one data into another in python. It is also known as type conversion."
      ],
      "metadata": {
        "id": "Ku7LS7BsrT3d"
      }
    },
    {
      "cell_type": "markdown",
      "source": [
        "10) what is difference between implicit and explicit type casting?"
      ],
      "metadata": {
        "id": "8P-wJOS7rvVP"
      }
    },
    {
      "cell_type": "markdown",
      "source": [
        "ans: Implicit casting is done automatically by python and explicit is done by the programmer using functions like int(), float(), str()."
      ],
      "metadata": {
        "id": "7t9dwCOfsAp0"
      }
    },
    {
      "cell_type": "markdown",
      "source": [
        "11)what is purpose of conditional statements in python ?"
      ],
      "metadata": {
        "id": "oNDmarN2sAuk"
      }
    },
    {
      "cell_type": "markdown",
      "source": [
        "ans: they allow decision making in the code< enabling the execution of certain blocks only when specific conditions are met."
      ],
      "metadata": {
        "id": "tH3QaE_Os0Og"
      }
    },
    {
      "cell_type": "markdown",
      "source": [
        "12) how does the elif statement work ?"
      ],
      "metadata": {
        "id": "jz4earU0tSS4"
      }
    },
    {
      "cell_type": "markdown",
      "source": [
        "ans: elif checks another condition if the previous \"if\" condition is false . if stands for 'else if'."
      ],
      "metadata": {
        "id": "FPEsXbbOtZWR"
      }
    },
    {
      "cell_type": "markdown",
      "source": [
        "13) what is difference between for and while loops ?"
      ],
      "metadata": {
        "id": "e5Xv8gg6tiJJ"
      }
    },
    {
      "cell_type": "markdown",
      "source": [
        "ans: A \"for\" loop is used when the number of the iterations is known and a \" while\" loop runs based on a condition and used when iterations are not fixed."
      ],
      "metadata": {
        "id": "5Yy3c_lrRSyY"
      }
    },
    {
      "cell_type": "markdown",
      "source": [
        "14) Describe a scenario where a while loop is more suitable than a for loop."
      ],
      "metadata": {
        "id": "WBPgS8nbSmtX"
      }
    },
    {
      "cell_type": "markdown",
      "source": [
        "ans: use a while loop when waiting for user input to meet a condition , like entering a valid password."
      ],
      "metadata": {
        "id": "h0ZQ52m8S9Is"
      }
    },
    {
      "cell_type": "markdown",
      "source": [
        "PRACTICAL QUESTIONS"
      ],
      "metadata": {
        "id": "biLoiVW9TWnp"
      }
    },
    {
      "cell_type": "code",
      "source": [
        "print(\"Hello,World\")"
      ],
      "metadata": {
        "colab": {
          "base_uri": "https://localhost:8080/"
        },
        "id": "N-8QeoLoTZ29",
        "outputId": "bc9f703e-2658-420e-ec9d-2d966928bcda"
      },
      "execution_count": null,
      "outputs": [
        {
          "output_type": "stream",
          "name": "stdout",
          "text": [
            "Hello,World\n"
          ]
        }
      ]
    },
    {
      "cell_type": "code",
      "source": [
        "name = \"Samrudhi\"\n",
        "age = 21\n",
        "print(name, age)"
      ],
      "metadata": {
        "colab": {
          "base_uri": "https://localhost:8080/"
        },
        "id": "506pmvbJgw10",
        "outputId": "03c9049f-5ac5-496c-affc-f327940ded14"
      },
      "execution_count": null,
      "outputs": [
        {
          "output_type": "stream",
          "name": "stdout",
          "text": [
            "Samrudhi 21\n"
          ]
        }
      ]
    },
    {
      "cell_type": "code",
      "source": [
        "# 3) Print all python keywords\n",
        "import keyword\n",
        "print(keyword.kwlist)"
      ],
      "metadata": {
        "colab": {
          "base_uri": "https://localhost:8080/"
        },
        "id": "wPjGMx9sjGwY",
        "outputId": "a9b00b1e-d2d6-4d95-cf0e-1facb7527424"
      },
      "execution_count": null,
      "outputs": [
        {
          "output_type": "stream",
          "name": "stdout",
          "text": [
            "['False', 'None', 'True', 'and', 'as', 'assert', 'async', 'await', 'break', 'class', 'continue', 'def', 'del', 'elif', 'else', 'except', 'finally', 'for', 'from', 'global', 'if', 'import', 'in', 'is', 'lambda', 'nonlocal', 'not', 'or', 'pass', 'raise', 'return', 'try', 'while', 'with', 'yield']\n"
          ]
        }
      ]
    },
    {
      "cell_type": "code",
      "source": [
        "# 4) Check if a word is a python keyword\n",
        "word = \"for\"\n",
        "print(keyword.iskeyword(word))"
      ],
      "metadata": {
        "colab": {
          "base_uri": "https://localhost:8080/"
        },
        "id": "wNyeF4KbkHIt",
        "outputId": "cd8e316d-5c48-4dc9-826f-8a3ae3dfdee2"
      },
      "execution_count": null,
      "outputs": [
        {
          "output_type": "stream",
          "name": "stdout",
          "text": [
            "True\n"
          ]
        }
      ]
    },
    {
      "cell_type": "code",
      "source": [
        "# 5) List and Tuple mutability demonstration\n",
        "my_list = [1, 2, 3]\n",
        "my_tuple = (1, 2, 3)\n",
        "\n",
        "# Modifying the list\n",
        "my_list[0] = 10\n",
        "print(my_list)"
      ],
      "metadata": {
        "colab": {
          "base_uri": "https://localhost:8080/"
        },
        "id": "LS7vmnPTl2dp",
        "outputId": "9838ca57-6466-4e9e-a904-00d62c4e386a"
      },
      "execution_count": null,
      "outputs": [
        {
          "output_type": "stream",
          "name": "stdout",
          "text": [
            "[10, 2, 3]\n"
          ]
        }
      ]
    },
    {
      "cell_type": "code",
      "source": [
        "# 6) Mutable and Immutable Function demonstration\n",
        "# 6) Mutable and Immutable Function demonstration\n",
        "def modify_list(lst):\n",
        "    lst[0] = 100\n",
        "def modify_int(x):\n",
        "    x = 100\n",
        "\n",
        "my_list = [1, 2, 3]\n",
        "x = 10\n",
        "modify_list(my_list)\n",
        "modify_int(x)\n",
        "print(my_list)\n",
        "print(x)\n",
        "my_list = [1, 2, 3]\n",
        "x = 10\n",
        "modify_list(my_list)\n",
        "modify_int(x)\n",
        "print(my_list)\n",
        "print(x)"
      ],
      "metadata": {
        "colab": {
          "base_uri": "https://localhost:8080/"
        },
        "id": "dJ5FikUJmSi5",
        "outputId": "4b597ddf-1902-4c2d-9d5a-726b6bd9fc94"
      },
      "execution_count": null,
      "outputs": [
        {
          "output_type": "stream",
          "name": "stdout",
          "text": [
            "[100, 2, 3]\n",
            "10\n",
            "[100, 2, 3]\n",
            "10\n"
          ]
        }
      ]
    },
    {
      "cell_type": "code",
      "source": [
        "# 7) Arithmetic operations\n",
        "add = 10 + 5\n",
        "add"
      ],
      "metadata": {
        "colab": {
          "base_uri": "https://localhost:8080/"
        },
        "id": "w9l3wM0bqNYv",
        "outputId": "39fed851-3e8c-4dad-a123-44d25a4fcf16"
      },
      "execution_count": null,
      "outputs": [
        {
          "output_type": "execute_result",
          "data": {
            "text/plain": [
              "15"
            ]
          },
          "metadata": {},
          "execution_count": 11
        }
      ]
    },
    {
      "cell_type": "code",
      "source": [
        "# 7) Arithmetic operations\n",
        "3*5"
      ],
      "metadata": {
        "colab": {
          "base_uri": "https://localhost:8080/"
        },
        "id": "65k1RDB9qn1g",
        "outputId": "1ba8d10d-6a54-47ba-d97a-f904dae0d382"
      },
      "execution_count": null,
      "outputs": [
        {
          "output_type": "execute_result",
          "data": {
            "text/plain": [
              "15"
            ]
          },
          "metadata": {},
          "execution_count": 12
        }
      ]
    },
    {
      "cell_type": "code",
      "source": [
        "# 8) Logical operators\n",
        "8>2"
      ],
      "metadata": {
        "colab": {
          "base_uri": "https://localhost:8080/"
        },
        "id": "Xq0DnDUMqy2Z",
        "outputId": "0bb8ef21-fc96-4b46-9cba-210dd8ae18c5"
      },
      "execution_count": null,
      "outputs": [
        {
          "output_type": "execute_result",
          "data": {
            "text/plain": [
              "True"
            ]
          },
          "metadata": {},
          "execution_count": 17
        }
      ]
    },
    {
      "cell_type": "code",
      "source": [
        "# 8) Logical operators\n",
        "10<2"
      ],
      "metadata": {
        "colab": {
          "base_uri": "https://localhost:8080/"
        },
        "id": "wIQjYS1TsJYt",
        "outputId": "15c14806-cc76-4aef-ae1a-6fa493ebf4f2"
      },
      "execution_count": null,
      "outputs": [
        {
          "output_type": "execute_result",
          "data": {
            "text/plain": [
              "False"
            ]
          },
          "metadata": {},
          "execution_count": 18
        }
      ]
    },
    {
      "cell_type": "code",
      "source": [
        "# 9)convert input to types\n",
        "s = (\"1410\")\n",
        "print(int(s), float(s), bool(s))"
      ],
      "metadata": {
        "colab": {
          "base_uri": "https://localhost:8080/"
        },
        "id": "meZMUaaesPny",
        "outputId": "43fb2212-42cf-4d46-8496-45b71604386d"
      },
      "execution_count": null,
      "outputs": [
        {
          "output_type": "stream",
          "name": "stdout",
          "text": [
            "1410 1410.0 True\n"
          ]
        }
      ]
    },
    {
      "cell_type": "code",
      "source": [
        "# 10) Type casting list elements\n",
        "lst = [1,2,3]\n",
        "lst = [int(i) for i in lst]\n",
        "print(lst)"
      ],
      "metadata": {
        "id": "5eONHyXFs6wA",
        "colab": {
          "base_uri": "https://localhost:8080/"
        },
        "outputId": "55bcce35-d971-4238-cd5a-280da7fa7fdd"
      },
      "execution_count": null,
      "outputs": [
        {
          "output_type": "stream",
          "name": "stdout",
          "text": [
            "[1, 2, 3]\n"
          ]
        }
      ]
    },
    {
      "cell_type": "code",
      "source": [
        "# 11) Check number type\n",
        "num = int(input(4, 0, -5))\n",
        "if num > 0:\n",
        "  print(\"Positive\")\n",
        "elif num == 0:\n",
        "  print(\"Zero\")\n",
        "else:\n",
        "  print(\"Negative\")\n",
        "\n",
        "\n"
      ],
      "metadata": {
        "colab": {
          "base_uri": "https://localhost:8080/",
          "height": 211
        },
        "id": "GVZKaOmdCqRR",
        "outputId": "bbda2f7c-7598-4f4d-aac2-d67306a53e00"
      },
      "execution_count": 20,
      "outputs": [
        {
          "output_type": "error",
          "ename": "TypeError",
          "evalue": "Kernel.raw_input() takes from 1 to 2 positional arguments but 4 were given",
          "traceback": [
            "\u001b[0;31m---------------------------------------------------------------------------\u001b[0m",
            "\u001b[0;31mTypeError\u001b[0m                                 Traceback (most recent call last)",
            "\u001b[0;32m<ipython-input-20-311679a92dcb>\u001b[0m in \u001b[0;36m<cell line: 0>\u001b[0;34m()\u001b[0m\n\u001b[1;32m      1\u001b[0m \u001b[0;31m# 11) Check number type\u001b[0m\u001b[0;34m\u001b[0m\u001b[0;34m\u001b[0m\u001b[0m\n\u001b[0;32m----> 2\u001b[0;31m \u001b[0mnum\u001b[0m \u001b[0;34m=\u001b[0m \u001b[0mint\u001b[0m\u001b[0;34m(\u001b[0m\u001b[0minput\u001b[0m\u001b[0;34m(\u001b[0m\u001b[0;36m4\u001b[0m\u001b[0;34m,\u001b[0m \u001b[0;36m0\u001b[0m\u001b[0;34m,\u001b[0m \u001b[0;34m-\u001b[0m\u001b[0;36m5\u001b[0m\u001b[0;34m)\u001b[0m\u001b[0;34m)\u001b[0m\u001b[0;34m\u001b[0m\u001b[0;34m\u001b[0m\u001b[0m\n\u001b[0m\u001b[1;32m      3\u001b[0m \u001b[0;32mif\u001b[0m \u001b[0mnum\u001b[0m \u001b[0;34m>\u001b[0m \u001b[0;36m0\u001b[0m\u001b[0;34m:\u001b[0m\u001b[0;34m\u001b[0m\u001b[0;34m\u001b[0m\u001b[0m\n\u001b[1;32m      4\u001b[0m   \u001b[0mprint\u001b[0m\u001b[0;34m(\u001b[0m\u001b[0;34m\"Positive\"\u001b[0m\u001b[0;34m)\u001b[0m\u001b[0;34m\u001b[0m\u001b[0;34m\u001b[0m\u001b[0m\n\u001b[1;32m      5\u001b[0m \u001b[0;32melif\u001b[0m \u001b[0mnum\u001b[0m \u001b[0;34m==\u001b[0m \u001b[0;36m0\u001b[0m\u001b[0;34m:\u001b[0m\u001b[0;34m\u001b[0m\u001b[0;34m\u001b[0m\u001b[0m\n",
            "\u001b[0;31mTypeError\u001b[0m: Kernel.raw_input() takes from 1 to 2 positional arguments but 4 were given"
          ]
        }
      ]
    },
    {
      "cell_type": "code",
      "source": [
        "# 12)For loop 1 to 10\n",
        "for i in range (1, 11):\n",
        "  print(i)"
      ],
      "metadata": {
        "id": "jII1IWUrHJMQ",
        "colab": {
          "base_uri": "https://localhost:8080/"
        },
        "outputId": "5064e6e1-c44f-44d8-f36d-349c9a8f5e95"
      },
      "execution_count": 22,
      "outputs": [
        {
          "output_type": "stream",
          "name": "stdout",
          "text": [
            "1\n",
            "2\n",
            "3\n",
            "4\n",
            "5\n",
            "6\n",
            "7\n",
            "8\n",
            "9\n",
            "10\n"
          ]
        }
      ]
    },
    {
      "cell_type": "code",
      "source": [
        "# 13) Sum of even numbers from 1 to 50\n",
        "even_sum = 0\n",
        "for i in range(1, 51):\n",
        "  if i % 2 == 0:\n",
        "    even_sum += i\n",
        "print(even_sum)"
      ],
      "metadata": {
        "colab": {
          "base_uri": "https://localhost:8080/"
        },
        "id": "YgvZ3iHgKW8D",
        "outputId": "3f980a0b-e3b7-4490-d71a-cb5c18ba4741"
      },
      "execution_count": 23,
      "outputs": [
        {
          "output_type": "stream",
          "name": "stdout",
          "text": [
            "650\n"
          ]
        }
      ]
    },
    {
      "cell_type": "code",
      "source": [
        "# 14) Reverse a string using while loop\n",
        "lst1 = [2,5,8,9,12,14,17,21,85]\n",
        "lst1[::-1]"
      ],
      "metadata": {
        "colab": {
          "base_uri": "https://localhost:8080/"
        },
        "id": "MBdnRTF-Ks6f",
        "outputId": "66ff838e-70c9-423e-ba25-bd005521672d"
      },
      "execution_count": 25,
      "outputs": [
        {
          "output_type": "execute_result",
          "data": {
            "text/plain": [
              "[85, 21, 17, 14, 12, 9, 8, 5, 2]"
            ]
          },
          "metadata": {},
          "execution_count": 25
        }
      ]
    },
    {
      "cell_type": "code",
      "source": [
        "# 15) Factorial using while loop\n",
        "num = 5\n",
        "fact = 1\n",
        "# 15) Factorial using while loop\n",
        "num = 5\n",
        "fact = 1\n",
        "if num<0:\n",
        "  print(\"factorial does not exixt for negative numbers.\")\n",
        "elif num == 0 or num == 1:\n",
        "    print(\"factorial is 1\")\n",
        "else:\n",
        "      while num>1:\n",
        "        fact = fact*num\n",
        "        num = num-1\n",
        "        print(\"factorial is:\",fact)\n",
        "      while num>1:\n",
        "        fact = fact*num\n",
        "        num = num-1\n",
        "        print(\"factorial is:\",fact)"
      ],
      "metadata": {
        "colab": {
          "base_uri": "https://localhost:8080/"
        },
        "id": "SUsbWmFVN8Wu",
        "outputId": "4fb12a11-9539-4567-dc18-8ce1bc2536e4"
      },
      "execution_count": 30,
      "outputs": [
        {
          "output_type": "stream",
          "name": "stdout",
          "text": [
            "factorial is: 5\n",
            "factorial is: 20\n",
            "factorial is: 60\n",
            "factorial is: 120\n"
          ]
        }
      ]
    }
  ]
}